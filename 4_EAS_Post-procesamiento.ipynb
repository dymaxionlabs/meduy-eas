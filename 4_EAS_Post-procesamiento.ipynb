{
 "cells": [
  {
   "cell_type": "markdown",
   "metadata": {},
   "source": [
    "# EAS: Post-procesamiento\n",
    "\n",
    "Hasta ahora tenemos como resultado de la predicción de los modelos un directorio con imágenes del tamaño de los chips, que representan la probabilidad de que un píxel sea parte del objeto de interés (en este caso, panel fotovoltaico).\n",
    "\n",
    "En este notebook se describen los pasos extras de post-procesamiento sobre estas imágenes resultado del modelo, para llegar a obtener un único archivo vectorial con polígonos de paneles."
   ]
  },
  {
   "cell_type": "code",
   "execution_count": 1,
   "metadata": {},
   "outputs": [],
   "source": [
    "import os"
   ]
  },
  {
   "cell_type": "code",
   "execution_count": 2,
   "metadata": {},
   "outputs": [],
   "source": [
    "DATA_DIR = \"data/paneles\"\n",
    "REMESA_DIR = os.path.join(DATA_DIR, 'predict', 'remesa5')"
   ]
  },
  {
   "cell_type": "markdown",
   "metadata": {},
   "source": [
    "## Poligonizado\n",
    "\n",
    "La siguiente función aplica una rutina de poligonización sobre los resultados de la predicción del modelo y genera un archivo vectorial en formato GeoPackage (GPKG). La rutina aplica `gdal_polygonize.py` a cada chip resultado generando un GPKG para cada chip, y luego une todos estos archivos en uno solo, de manera eficiente.\n",
    "\n",
    "Antes de unirlos también aplica un umbral sobre los valores de los rásteres, que en este caso representan la probabilidad (valores entre 0 y 1)."
   ]
  },
  {
   "cell_type": "code",
   "execution_count": 3,
   "metadata": {},
   "outputs": [],
   "source": [
    "from meduy.postprocess.polygonize import polygonize"
   ]
  },
  {
   "cell_type": "code",
   "execution_count": 4,
   "metadata": {},
   "outputs": [
    {
     "name": "stderr",
     "output_type": "stream",
     "text": [
      "100%|██████████| 3332/3332 [01:56<00:00, 28.65it/s]\n",
      "100%|██████████| 4/4 [00:01<00:00,  2.71it/s]\n",
      "100%|██████████| 4/4 [00:02<00:00,  1.69it/s]\n"
     ]
    }
   ],
   "source": [
    "# modelo 1: urbano\n",
    "polygonize(threshold=0.4,\n",
    "           input_dir=os.path.join(REMESA_DIR, 'urban', '400_400', 'results'),\n",
    "           output=os.path.join(REMESA_DIR, 'urban', 'results_raw.gpkg'))"
   ]
  },
  {
   "cell_type": "code",
   "execution_count": null,
   "metadata": {},
   "outputs": [
    {
     "name": "stderr",
     "output_type": "stream",
     "text": [
      " 12%|█▏        | 22235/184590 [13:44<1:52:27, 24.06it/s]"
     ]
    }
   ],
   "source": [
    "# modelo 2: nacional\n",
    "polygonize(threshold=0.4,\n",
    "           input_dir=os.path.join(REMESA_DIR, 'national', '160_160', 'results'),\n",
    "           output=os.path.join(REMESA_DIR, 'national', 'results_raw.gpkg'))"
   ]
  },
  {
   "cell_type": "markdown",
   "metadata": {},
   "source": [
    "## Disolver polígonos\n",
    "\n",
    "El segundo paso es la disolución de polígonos contiguos. El paso anterior de poligonización puede generar múltiples polígonos en forma de \"pixel\", aún si son contiguos (porque tienen valores de probabilidad distintos). Entonces esta rutina termina disolviendo todos esos polígonos contiguos en uno solo.\n",
    "\n",
    "La función toma el GPKG generado en el paso anterior y devuelve uno nuevo."
   ]
  },
  {
   "cell_type": "code",
   "execution_count": null,
   "metadata": {},
   "outputs": [],
   "source": [
    "from meduy.postprocess.dissolve import dissolve"
   ]
  },
  {
   "cell_type": "code",
   "execution_count": null,
   "metadata": {},
   "outputs": [],
   "source": [
    "# modelo 1: urbano\n",
    "dissolve(src=os.path.join(REMESA_DIR, 'urban', 'results_raw.gpkg'),\n",
    "         dst=os.path.join(REMESA_DIR, 'urban', 'results_diss.gpkg'))"
   ]
  },
  {
   "cell_type": "code",
   "execution_count": null,
   "metadata": {},
   "outputs": [],
   "source": [
    "# modelo 2: nacional\n",
    "dissolve(src=os.path.join(REMESA_DIR, 'urban', 'results_raw.gpkg'),\n",
    "         dst=os.path.join(REMESA_DIR, 'urban', 'results_diss.gpkg'))"
   ]
  },
  {
   "cell_type": "markdown",
   "metadata": {},
   "source": [
    "## Filtrar por área mínima\n",
    "\n",
    "Como último paso, filtramos aquellos polígonos de area inferior a 50 m², dado que consideramos que son falsos positivos. Para esto utilizamos `ogr2ogr` y una consulta SQL."
   ]
  },
  {
   "cell_type": "code",
   "execution_count": null,
   "metadata": {},
   "outputs": [],
   "source": [
    "def filter_min_area(*, src, dst, min_area):\n",
    "    import subprocess\n",
    "    \n",
    "    name, _ = os.path.splitext(os.path.basename(src))\n",
    "    cmd = 'ogr2ogr ' \\\n",
    "        '-f \"GPKG\" ' \\\n",
    "        f'-sql \"SELECT * FROM {name} m WHERE ST_Area(geom) > {min_area}\" ' \\\n",
    "        '-dialect SQLITE ' \\\n",
    "        '-nln results ' \\\n",
    "        f'{dst} {src}'\n",
    "    subprocess.run(cmd, shell=True, check=True)"
   ]
  },
  {
   "cell_type": "code",
   "execution_count": null,
   "metadata": {},
   "outputs": [],
   "source": [
    "# modelo 1: urbano\n",
    "filter_min_area(src=os.path.join(REMESA_DIR, 'urban', 'results_diss.gpkg'),\n",
    "                dst=os.path.join(REMESA_DIR, 'urban', 'results_m50.gpkg'),\n",
    "                min_area=50)"
   ]
  },
  {
   "cell_type": "code",
   "execution_count": null,
   "metadata": {},
   "outputs": [],
   "source": [
    "# modelo 2: nacional\n",
    "filter_min_area(src=os.path.join(REMESA_DIR, 'national', 'results_diss.gpkg'),\n",
    "                dst=os.path.join(REMESA_DIR, 'national', 'results_m50.gpkg'),\n",
    "                min_area=50)"
   ]
  }
 ],
 "metadata": {
  "colab": {
   "authorship_tag": "ABX9TyNKlws8+6PcuvJrSWdSmTxJ",
   "include_colab_link": true,
   "name": "4 - Post-procesamiento",
   "provenance": []
  },
  "kernelspec": {
   "display_name": "Python 3",
   "language": "python",
   "name": "python3"
  },
  "language_info": {
   "codemirror_mode": {
    "name": "ipython",
    "version": 3
   },
   "file_extension": ".py",
   "mimetype": "text/x-python",
   "name": "python",
   "nbconvert_exporter": "python",
   "pygments_lexer": "ipython3",
   "version": "3.7.6"
  }
 },
 "nbformat": 4,
 "nbformat_minor": 4
}
